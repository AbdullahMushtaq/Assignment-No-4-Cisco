{
 "cells": [
  {
   "cell_type": "markdown",
   "metadata": {},
   "source": [
    "Question No 1"
   ]
  },
  {
   "cell_type": "code",
   "execution_count": 3,
   "metadata": {},
   "outputs": [
    {
     "name": "stdout",
     "output_type": "stream",
     "text": [
      "{'first_name': 'Abdullah ', 'last_name': 'Mushtaq', 'age': 26, 'city': 'Karachi'}\n",
      "{'first_name': 'Abdullah ', 'last_name': 'Mushtaq', 'age': 26, 'city': 'Karachi'}\n",
      "{'first_name': 'Abdullah ', 'last_name': 'Mushtaq', 'age': 26, 'city': 'Karachi'}\n"
     ]
    }
   ],
   "source": [
    "Dic = {\"first_name\":\"Abdullah \",\"last_name\":\"Mushtaq\",\"age\":26,\"city\":\"Karachi\"}\n",
    "print(Dic)\n",
    "data[\"Qualification\"] = \"BS in Actuarial Science and Risk Management\"\n",
    "print(Dic)\n",
    "del data[\"Qualification\"]\n",
    "print(Dic)"
   ]
  },
  {
   "cell_type": "markdown",
   "metadata": {},
   "source": [
    "Question No 2"
   ]
  },
  {
   "cell_type": "code",
   "execution_count": 4,
   "metadata": {},
   "outputs": [
    {
     "name": "stdout",
     "output_type": "stream",
     "text": [
      "karachi {'country': 'Pakistan', 'Population': '11 Million', 'fact': 'centre of all civilazations'}\n",
      "lahore {'country': 'Pakistan', 'Population': '6 million', 'fact': 'it has sufiyasim,'}\n",
      "sialkot {'country': 'Pakistan', 'Population': '1 million', 'fact': 'its speciaity in sports'}\n"
     ]
    }
   ],
   "source": [
    "City = {\"karachi\":{\"country\":\"Pakistan\",\"Population\":\"11 Million\",\"fact\":\"centre of all civilazations\"},\n",
    "        \"lahore\":{\"country\":\"Pakistan\",\"Population\":\"6 million\",'fact':\"it has sufiyasim,\"},\n",
    "       \"sialkot\":{\"country\":\"Pakistan\",\"Population\":\"1 million\",\"fact\":\"its speciaity in sports\"}}\n",
    "for o,b in City.items():\n",
    "    print(o,b)"
   ]
  },
  {
   "cell_type": "markdown",
   "metadata": {},
   "source": [
    "Question No 3"
   ]
  },
  {
   "cell_type": "code",
   "execution_count": 6,
   "metadata": {},
   "outputs": [
    {
     "name": "stdout",
     "output_type": "stream",
     "text": [
      "what is your age3\n",
      "your ticket is free\n"
     ]
    }
   ],
   "source": [
    "for i in range(3):\n",
    "    age = int(input(\"what is your age\"))\n",
    "    if age <=3:\n",
    "        print(\"your ticket is free\")\n",
    "        break\n",
    "    if age >3 and age <=12:\n",
    "        print(\"your ticket is $5\")\n",
    "        break\n",
    "    if age > 12:\n",
    "        print(\"your ticket is 65\")\n",
    "        break"
   ]
  },
  {
   "cell_type": "markdown",
   "metadata": {},
   "source": [
    "Question No 4"
   ]
  },
  {
   "cell_type": "code",
   "execution_count": 7,
   "metadata": {},
   "outputs": [
    {
     "data": {
      "text/plain": [
       "('one of my favourite book is', 'Why Nations Falls')"
      ]
     },
     "execution_count": 7,
     "metadata": {},
     "output_type": "execute_result"
    }
   ],
   "source": [
    "def favourite_book(title):\n",
    "        return \"My favourite book is: \",title\n",
    "favourite_book('Why Nations Falls')"
   ]
  },
  {
   "cell_type": "markdown",
   "metadata": {},
   "source": [
    "Question No 5"
   ]
  },
  {
   "cell_type": "code",
   "execution_count": 9,
   "metadata": {},
   "outputs": [
    {
     "name": "stdout",
     "output_type": "stream",
     "text": [
      "================HINT================\n",
      "try a number between 10 and 20\n",
      "enter your guess: 65\n",
      "choose a number between 1 and 30\n",
      "enter your guess: 1\n",
      "your guess is wrong\n",
      "============better luck next time :-)============\n",
      "enter your guess: 3\n",
      "your guess is wrong\n",
      "============better luck next time :-)============\n"
     ]
    }
   ],
   "source": [
    "import random\n",
    "a=random.randint(1,30) #a is the hidden number\n",
    "print(\"================HINT================\")\n",
    "if a>= 1 and a < 10:\n",
    "    print(\"try a number between 1 and 10\")\n",
    "elif a >= 10 and a < 20:\n",
    "    print(\"try a number between 10 and 20\")\n",
    "elif a >= 20 and a < 30:\n",
    "    print(\"try a number between 20 and 30\")\n",
    "for i in range(0,3):\n",
    "    user = int(input(\"enter your guess: \"))\n",
    "    if user < 1 or user > 30:\n",
    "        print(\"choose a number between 1 and 30\")\n",
    "    else:\n",
    "        if user == a:\n",
    "            print(\"your guess is right\")\n",
    "            break\n",
    "        else:\n",
    "            print(\"your guess is wrong\")\n",
    "            print(\"============better luck next time :-)============\")"
   ]
  },
  {
   "cell_type": "code",
   "execution_count": null,
   "metadata": {},
   "outputs": [],
   "source": []
  }
 ],
 "metadata": {
  "kernelspec": {
   "display_name": "Python 3",
   "language": "python",
   "name": "python3"
  },
  "language_info": {
   "codemirror_mode": {
    "name": "ipython",
    "version": 3
   },
   "file_extension": ".py",
   "mimetype": "text/x-python",
   "name": "python",
   "nbconvert_exporter": "python",
   "pygments_lexer": "ipython3",
   "version": "3.7.3"
  }
 },
 "nbformat": 4,
 "nbformat_minor": 2
}
